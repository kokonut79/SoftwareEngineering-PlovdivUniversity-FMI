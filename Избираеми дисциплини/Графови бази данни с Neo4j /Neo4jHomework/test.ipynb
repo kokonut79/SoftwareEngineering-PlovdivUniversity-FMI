{
 "cells": [
  {
   "cell_type": "code",
   "execution_count": 2,
   "id": "initial_id",
   "metadata": {
    "collapsed": true,
    "ExecuteTime": {
     "end_time": "2024-01-18T18:41:29.613367Z",
     "start_time": "2024-01-18T18:41:29.256771Z"
    }
   },
   "outputs": [],
   "source": [
    "import pandas as pd\n",
    "\n",
    "# Read routes.dat and airports.dat\n",
    "routes_df = pd.read_csv('/Users/vasenceto/Downloads/routes.dat', header=None, names=[\"Airline\", \"AirlineID\", \"SourceAirport\", \"SourceAirportID\", \"DestinationAirport\", \"DestinationAirportID\", \"Codeshare\", \"Stops\", \"Equipment\"])\n",
    "airports_df = pd.read_csv('/Users/vasenceto/Downloads/airports.dat', header=None, names=[\"AirportID\", \"Name\", \"City\", \"Country\", \"IATA\", \"ICAO\", \"Latitude\", \"Longitude\", \"Altitude\", \"Timezone\", \"DST\", \"TzDatabase\", \"Type\", \"Source\"])\n",
    "\n",
    "\n",
    "airports_df['AirportID'] = airports_df['AirportID'].astype(str)\n",
    "\n",
    "source_without_N = routes_df[routes_df['DestinationAirportID'] != '\\\\N']\n",
    "\n",
    "destination_without_N = source_without_N[source_without_N['SourceAirportID'] != '\\\\N']\n",
    "\n",
    "source_without_invalid_id = (\n",
    "    destination_without_N)[destination_without_N['SourceAirportID'].isin(airports_df['AirportID'])]\n",
    "\n",
    "destination_without_invalid_id = (\n",
    "    source_without_invalid_id)[source_without_invalid_id['DestinationAirportID'].isin(airports_df['AirportID'])]\n",
    "\n",
    "valid_IATA_source = (destination_without_invalid_id)[destination_without_invalid_id['SourceAirport'].isin(airports_df['IATA'])]\n",
    "\n",
    "valid_IATA_dest = (valid_IATA_source)[valid_IATA_source['DestinationAirport'].isin(airports_df['IATA'])]\n",
    "\n",
    "valid_IATA_dest = valid_IATA_dest.rename(columns={\n",
    "    \"Airline\": \"Airline:STRING\", \n",
    "    \"AirlineID\": \"AirlineID:INTEGER\", \n",
    "    \"SourceAirport\": \"SourceAirport:STRING\", \n",
    "    \"SourceAirportID\": \":START_ID\", \n",
    "    \"DestinationAirport\": \"DestinationAirport:STRING\", \n",
    "    \"DestinationAirportID\": \":END_ID\",\n",
    "    \"Codeshare\": \"Codeshare:STRING\", \n",
    "    \"Stops\": \"Stops:INTEGER\", \n",
    "    \"Equipment\": \"Equipment:STRING\"\n",
    "})\n",
    "\n",
    "airports_df = airports_df.rename(columns={\n",
    "    \"AirportID\": \":ID\", \n",
    "    \"Name\": \"Name:STRING\", \n",
    "    \"City\": \"City:STRING\", \n",
    "    \"Country\": \"Country:STRING\", \n",
    "    \"IATA\": \"IATA:STRING\", \n",
    "    \"ICAO\": \"ICAO:STRING\", \n",
    "    \"Latitude\": \"Latitude:FLOAT\", \n",
    "    \"Longitude\": \"Longitude:FLOAT\", \n",
    "    \"Altitude\": \"Altitude:STRING\", \n",
    "    \"Timezone\": \"Timezone:STRING\", \n",
    "    \"DST\": \"DST:STRING\", \n",
    "    \"TzDatabase\": \"TzDatabase:STRING\", \n",
    "    \"Type\": \"Type:STRING\", \n",
    "    \"Source\": \"Source:STRING\"\n",
    "})\n",
    "\n",
    "valid_IATA_dest = valid_IATA_dest[[\":START_ID\", \":END_ID\", \"SourceAirport:STRING\", \"Airline:STRING\", \"DestinationAirport:STRING\", \"AirlineID:INTEGER\", \"Codeshare:STRING\", \"Stops:INTEGER\", \"Equipment:STRING\"]]\n",
    "\n",
    "valid_routes = valid_IATA_dest.copy()\n",
    "\n",
    "# Save the valid routes to CSV\n",
    "valid_routes.to_csv('/Users/vasenceto/Desktop/cleaned_routes.csv', index=False)\n",
    "airports_df.to_csv('/Users/vasenceto/Desktop/cleaned_airports.csv', index=False)\n"
   ]
  },
  {
   "cell_type": "code",
   "execution_count": 2,
   "outputs": [],
   "source": [],
   "metadata": {
    "collapsed": false,
    "ExecuteTime": {
     "end_time": "2024-01-18T18:41:29.618589Z",
     "start_time": "2024-01-18T18:41:29.617890Z"
    }
   },
   "id": "db12e204a90d3e0e"
  }
 ],
 "metadata": {
  "kernelspec": {
   "display_name": "Python 3",
   "language": "python",
   "name": "python3"
  },
  "language_info": {
   "codemirror_mode": {
    "name": "ipython",
    "version": 2
   },
   "file_extension": ".py",
   "mimetype": "text/x-python",
   "name": "python",
   "nbconvert_exporter": "python",
   "pygments_lexer": "ipython2",
   "version": "2.7.6"
  }
 },
 "nbformat": 4,
 "nbformat_minor": 5
}

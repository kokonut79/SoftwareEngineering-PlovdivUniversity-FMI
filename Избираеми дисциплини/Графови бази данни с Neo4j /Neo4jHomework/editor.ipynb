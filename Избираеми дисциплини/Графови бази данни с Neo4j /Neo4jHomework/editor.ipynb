{
 "cells": [
  {
   "cell_type": "code",
   "execution_count": 6,
   "id": "initial_id",
   "metadata": {
    "collapsed": true,
    "ExecuteTime": {
     "end_time": "2024-01-17T18:56:39.301157Z",
     "start_time": "2024-01-17T18:56:39.270020Z"
    }
   },
   "outputs": [],
   "source": [
    "import pandas as pd\n",
    "\n",
    "airports = pd.read_csv(\"/Users/vasenceto/Desktop/cleaned_airports.csv\")\n",
    "routes = pd.read_csv(\"/Users/vasenceto/Desktop/cleaned_routes.csv\")"
   ]
  },
  {
   "cell_type": "code",
   "execution_count": 7,
   "outputs": [
    {
     "name": "stdout",
     "output_type": "stream",
     "text": [
      "<class 'pandas.core.frame.DataFrame'>\n",
      "RangeIndex: 7698 entries, 0 to 7697\n",
      "Data columns (total 14 columns):\n",
      " #   Column      Non-Null Count  Dtype  \n",
      "---  ------      --------------  -----  \n",
      " 0   AirportID   7698 non-null   int64  \n",
      " 1   Name        7698 non-null   object \n",
      " 2   City        7649 non-null   object \n",
      " 3   Country     7698 non-null   object \n",
      " 4   IATA        7698 non-null   object \n",
      " 5   ICAO        7698 non-null   object \n",
      " 6   Latitude    7698 non-null   float64\n",
      " 7   Longitude   7698 non-null   float64\n",
      " 8   Altitude    7698 non-null   int64  \n",
      " 9   Timezone    7698 non-null   object \n",
      " 10  DST         7698 non-null   object \n",
      " 11  TzDatabase  7698 non-null   object \n",
      " 12  Type        7698 non-null   object \n",
      " 13  Source      7698 non-null   object \n",
      "dtypes: float64(2), int64(2), object(10)\n",
      "memory usage: 842.1+ KB\n"
     ]
    }
   ],
   "source": [
    "airports.info()"
   ],
   "metadata": {
    "collapsed": false,
    "ExecuteTime": {
     "end_time": "2024-01-17T18:56:43.698679Z",
     "start_time": "2024-01-17T18:56:43.694702Z"
    }
   },
   "id": "9ae0d1bd2e7e863f"
  },
  {
   "cell_type": "code",
   "execution_count": 8,
   "outputs": [
    {
     "data": {
      "text/plain": "   AirportID                                         Name          City  \\\n0          1                               Goroka Airport        Goroka   \n1          2                               Madang Airport        Madang   \n2          3                 Mount Hagen Kagamuga Airport   Mount Hagen   \n3          4                               Nadzab Airport        Nadzab   \n4          5  Port Moresby Jacksons International Airport  Port Moresby   \n\n            Country IATA  ICAO  Latitude   Longitude  Altitude Timezone DST  \\\n0  Papua New Guinea  GKA  AYGA -6.081690  145.391998      5282       10   U   \n1  Papua New Guinea  MAG  AYMD -5.207080  145.789001        20       10   U   \n2  Papua New Guinea  HGU  AYMH -5.826790  144.296005      5388       10   U   \n3  Papua New Guinea  LAE  AYNZ -6.569803  146.725977       239       10   U   \n4  Papua New Guinea  POM  AYPY -9.443380  147.220001       146       10   U   \n\n             TzDatabase     Type       Source  \n0  Pacific/Port_Moresby  airport  OurAirports  \n1  Pacific/Port_Moresby  airport  OurAirports  \n2  Pacific/Port_Moresby  airport  OurAirports  \n3  Pacific/Port_Moresby  airport  OurAirports  \n4  Pacific/Port_Moresby  airport  OurAirports  ",
      "text/html": "<div>\n<style scoped>\n    .dataframe tbody tr th:only-of-type {\n        vertical-align: middle;\n    }\n\n    .dataframe tbody tr th {\n        vertical-align: top;\n    }\n\n    .dataframe thead th {\n        text-align: right;\n    }\n</style>\n<table border=\"1\" class=\"dataframe\">\n  <thead>\n    <tr style=\"text-align: right;\">\n      <th></th>\n      <th>AirportID</th>\n      <th>Name</th>\n      <th>City</th>\n      <th>Country</th>\n      <th>IATA</th>\n      <th>ICAO</th>\n      <th>Latitude</th>\n      <th>Longitude</th>\n      <th>Altitude</th>\n      <th>Timezone</th>\n      <th>DST</th>\n      <th>TzDatabase</th>\n      <th>Type</th>\n      <th>Source</th>\n    </tr>\n  </thead>\n  <tbody>\n    <tr>\n      <th>0</th>\n      <td>1</td>\n      <td>Goroka Airport</td>\n      <td>Goroka</td>\n      <td>Papua New Guinea</td>\n      <td>GKA</td>\n      <td>AYGA</td>\n      <td>-6.081690</td>\n      <td>145.391998</td>\n      <td>5282</td>\n      <td>10</td>\n      <td>U</td>\n      <td>Pacific/Port_Moresby</td>\n      <td>airport</td>\n      <td>OurAirports</td>\n    </tr>\n    <tr>\n      <th>1</th>\n      <td>2</td>\n      <td>Madang Airport</td>\n      <td>Madang</td>\n      <td>Papua New Guinea</td>\n      <td>MAG</td>\n      <td>AYMD</td>\n      <td>-5.207080</td>\n      <td>145.789001</td>\n      <td>20</td>\n      <td>10</td>\n      <td>U</td>\n      <td>Pacific/Port_Moresby</td>\n      <td>airport</td>\n      <td>OurAirports</td>\n    </tr>\n    <tr>\n      <th>2</th>\n      <td>3</td>\n      <td>Mount Hagen Kagamuga Airport</td>\n      <td>Mount Hagen</td>\n      <td>Papua New Guinea</td>\n      <td>HGU</td>\n      <td>AYMH</td>\n      <td>-5.826790</td>\n      <td>144.296005</td>\n      <td>5388</td>\n      <td>10</td>\n      <td>U</td>\n      <td>Pacific/Port_Moresby</td>\n      <td>airport</td>\n      <td>OurAirports</td>\n    </tr>\n    <tr>\n      <th>3</th>\n      <td>4</td>\n      <td>Nadzab Airport</td>\n      <td>Nadzab</td>\n      <td>Papua New Guinea</td>\n      <td>LAE</td>\n      <td>AYNZ</td>\n      <td>-6.569803</td>\n      <td>146.725977</td>\n      <td>239</td>\n      <td>10</td>\n      <td>U</td>\n      <td>Pacific/Port_Moresby</td>\n      <td>airport</td>\n      <td>OurAirports</td>\n    </tr>\n    <tr>\n      <th>4</th>\n      <td>5</td>\n      <td>Port Moresby Jacksons International Airport</td>\n      <td>Port Moresby</td>\n      <td>Papua New Guinea</td>\n      <td>POM</td>\n      <td>AYPY</td>\n      <td>-9.443380</td>\n      <td>147.220001</td>\n      <td>146</td>\n      <td>10</td>\n      <td>U</td>\n      <td>Pacific/Port_Moresby</td>\n      <td>airport</td>\n      <td>OurAirports</td>\n    </tr>\n  </tbody>\n</table>\n</div>"
     },
     "execution_count": 8,
     "metadata": {},
     "output_type": "execute_result"
    }
   ],
   "source": [
    "airports.head(5) "
   ],
   "metadata": {
    "collapsed": false,
    "ExecuteTime": {
     "end_time": "2024-01-17T18:57:32.533005Z",
     "start_time": "2024-01-17T18:57:32.466380Z"
    }
   },
   "id": "dc96440fccab7047"
  },
  {
   "cell_type": "code",
   "execution_count": 9,
   "outputs": [
    {
     "name": "stdout",
     "output_type": "stream",
     "text": [
      "<class 'pandas.core.frame.DataFrame'>\n",
      "RangeIndex: 0 entries\n",
      "Data columns (total 9 columns):\n",
      " #   Column                Non-Null Count  Dtype \n",
      "---  ------                --------------  ----- \n",
      " 0   Airline               0 non-null      object\n",
      " 1   AirlineID             0 non-null      object\n",
      " 2   SourceAirport         0 non-null      object\n",
      " 3   SourceAirportID       0 non-null      object\n",
      " 4   DestinationAirport    0 non-null      object\n",
      " 5   DestinationAirportID  0 non-null      object\n",
      " 6   Codeshare             0 non-null      object\n",
      " 7   Stops                 0 non-null      object\n",
      " 8   Equipment             0 non-null      object\n",
      "dtypes: object(9)\n",
      "memory usage: 124.0+ bytes\n"
     ]
    }
   ],
   "source": [
    "routes.info()"
   ],
   "metadata": {
    "collapsed": false,
    "ExecuteTime": {
     "end_time": "2024-01-17T18:58:57.324539Z",
     "start_time": "2024-01-17T18:58:57.310785Z"
    }
   },
   "id": "2edf6c570bc60178"
  },
  {
   "cell_type": "code",
   "execution_count": 10,
   "outputs": [
    {
     "name": "stdout",
     "output_type": "stream",
     "text": [
      "<class 'pandas.core.frame.DataFrame'>\n",
      "RangeIndex: 0 entries\n",
      "Data columns (total 9 columns):\n",
      " #   Column                Non-Null Count  Dtype \n",
      "---  ------                --------------  ----- \n",
      " 0   Airline               0 non-null      object\n",
      " 1   AirlineID             0 non-null      object\n",
      " 2   SourceAirport         0 non-null      object\n",
      " 3   SourceAirportID       0 non-null      object\n",
      " 4   DestinationAirport    0 non-null      object\n",
      " 5   DestinationAirportID  0 non-null      object\n",
      " 6   Codeshare             0 non-null      object\n",
      " 7   Stops                 0 non-null      object\n",
      " 8   Equipment             0 non-null      object\n",
      "dtypes: object(9)\n",
      "memory usage: 124.0+ bytes\n"
     ]
    }
   ],
   "source": [
    "rows_to_drop = routes.isin(['\\\\N']).any(axis=1)\n",
    "routes.drop(routes[rows_to_drop].index, inplace=True)\n",
    "routes.info()"
   ],
   "metadata": {
    "collapsed": false,
    "ExecuteTime": {
     "end_time": "2024-01-17T18:59:11.539282Z",
     "start_time": "2024-01-17T18:59:11.529160Z"
    }
   },
   "id": "bb98b28494602038"
  },
  {
   "cell_type": "code",
   "execution_count": 12,
   "outputs": [],
   "source": [
    "airports_iatas = airports[\"IATA\"].tolist()\n",
    "airports_iatas = [iata for iata in airports_iatas if iata != \"\\\\N\"]\n",
    "\n",
    "airports_ids = airports[\"AirportID\"].tolist()"
   ],
   "metadata": {
    "collapsed": false,
    "ExecuteTime": {
     "end_time": "2024-01-17T18:59:35.530421Z",
     "start_time": "2024-01-17T18:59:35.524329Z"
    }
   },
   "id": "1f16e2038eea290a"
  },
  {
   "cell_type": "code",
   "execution_count": 15,
   "outputs": [
    {
     "name": "stdout",
     "output_type": "stream",
     "text": [
      "<class 'pandas.core.frame.DataFrame'>\n",
      "RangeIndex: 0 entries\n",
      "Data columns (total 9 columns):\n",
      " #   Column                Non-Null Count  Dtype \n",
      "---  ------                --------------  ----- \n",
      " 0   Airline               0 non-null      object\n",
      " 1   AirlineID             0 non-null      object\n",
      " 2   SourceAirport         0 non-null      object\n",
      " 3   SourceAirportID       0 non-null      object\n",
      " 4   DestinationAirport    0 non-null      object\n",
      " 5   DestinationAirportID  0 non-null      object\n",
      " 6   Codeshare             0 non-null      object\n",
      " 7   Stops                 0 non-null      object\n",
      " 8   Equipment             0 non-null      object\n",
      "dtypes: object(9)\n",
      "memory usage: 124.0+ bytes\n",
      "<class 'pandas.core.frame.DataFrame'>\n",
      "RangeIndex: 0 entries\n",
      "Data columns (total 9 columns):\n",
      " #   Column                Non-Null Count  Dtype \n",
      "---  ------                --------------  ----- \n",
      " 0   Airline               0 non-null      object\n",
      " 1   AirlineID             0 non-null      object\n",
      " 2   SourceAirport         0 non-null      object\n",
      " 3   SourceAirportID       0 non-null      object\n",
      " 4   DestinationAirport    0 non-null      object\n",
      " 5   DestinationAirportID  0 non-null      object\n",
      " 6   Codeshare             0 non-null      object\n",
      " 7   Stops                 0 non-null      object\n",
      " 8   Equipment             0 non-null      object\n",
      "dtypes: object(9)\n",
      "memory usage: 124.0+ bytes\n"
     ]
    }
   ],
   "source": [
    "rows_to_keep = (\n",
    "    routes['SourceAirport'].isin(airports_iatas) &\n",
    "    routes['DestinationAirport'].isin(airports_iatas)\n",
    ")\n",
    "\n",
    "routes = routes[rows_to_keep]\n",
    "routes.info()\n",
    "\n",
    "condition = (routes[\"SourceAirportID\"].isin(airports_ids)) | (routes[\"DestinationAirportID\"].isin(airports_ids))\n",
    "routes = routes[~condition]\n",
    "routes.info()"
   ],
   "metadata": {
    "collapsed": false,
    "ExecuteTime": {
     "end_time": "2024-01-17T19:00:15.673766Z",
     "start_time": "2024-01-17T19:00:15.630989Z"
    }
   },
   "id": "4398871f63edcd0b"
  },
  {
   "cell_type": "code",
   "execution_count": 17,
   "outputs": [
    {
     "name": "stdout",
     "output_type": "stream",
     "text": [
      "<class 'pandas.core.frame.DataFrame'>\n",
      "RangeIndex: 0 entries\n",
      "Data columns (total 2 columns):\n",
      " #   Column                Non-Null Count  Dtype \n",
      "---  ------                --------------  ----- \n",
      " 0   SourceAirportID       0 non-null      object\n",
      " 1   DestinationAirportID  0 non-null      object\n",
      "dtypes: object(2)\n",
      "memory usage: 124.0+ bytes\n"
     ]
    }
   ],
   "source": [
    "routes = routes.drop(['Airline', 'AirlineID','SourceAirport','Stops','DestinationAirport','Codeshare','Equipment'], axis=1)\n",
    "routes.info()"
   ],
   "metadata": {
    "collapsed": false,
    "ExecuteTime": {
     "end_time": "2024-01-17T19:00:48.720344Z",
     "start_time": "2024-01-17T19:00:48.717631Z"
    }
   },
   "id": "686fe66931f3ac58"
  },
  {
   "cell_type": "code",
   "execution_count": 18,
   "outputs": [
    {
     "name": "stdout",
     "output_type": "stream",
     "text": [
      "<class 'pandas.core.frame.DataFrame'>\n",
      "RangeIndex: 0 entries\n",
      "Data columns (total 3 columns):\n",
      " #   Column                Non-Null Count  Dtype \n",
      "---  ------                --------------  ----- \n",
      " 0   SourceAirportID       0 non-null      object\n",
      " 1   DestinationAirportID  0 non-null      object\n",
      " 2   Stops                 0 non-null      int64 \n",
      "dtypes: int64(1), object(2)\n",
      "memory usage: 124.0+ bytes\n"
     ]
    }
   ],
   "source": [
    "routes = routes.drop_duplicates()\n",
    "routes[\"Stops\"]=1\n",
    "routes.info()"
   ],
   "metadata": {
    "collapsed": false,
    "ExecuteTime": {
     "end_time": "2024-01-17T19:00:58.320872Z",
     "start_time": "2024-01-17T19:00:58.308915Z"
    }
   },
   "id": "7d30f366f9b07594"
  },
  {
   "cell_type": "code",
   "execution_count": 20,
   "outputs": [],
   "source": [
    "airports.to_csv(\"/Users/vasenceto/Desktop/airports_test.csv\",index=False)\n",
    "routes.to_csv(\"/Users/vasenceto/Desktop/routes_test.csv\",index=False)"
   ],
   "metadata": {
    "collapsed": false,
    "ExecuteTime": {
     "end_time": "2024-01-17T19:01:43.369489Z",
     "start_time": "2024-01-17T19:01:43.314317Z"
    }
   },
   "id": "e8cf816ec091a5f6"
  },
  {
   "cell_type": "code",
   "execution_count": null,
   "outputs": [],
   "source": [],
   "metadata": {
    "collapsed": false
   },
   "id": "e075641207ff2be3"
  }
 ],
 "metadata": {
  "kernelspec": {
   "display_name": "Python 3",
   "language": "python",
   "name": "python3"
  },
  "language_info": {
   "codemirror_mode": {
    "name": "ipython",
    "version": 2
   },
   "file_extension": ".py",
   "mimetype": "text/x-python",
   "name": "python",
   "nbconvert_exporter": "python",
   "pygments_lexer": "ipython2",
   "version": "2.7.6"
  }
 },
 "nbformat": 4,
 "nbformat_minor": 5
}
